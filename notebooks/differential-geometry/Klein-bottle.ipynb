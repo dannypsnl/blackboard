{
 "cells": [
  {
   "cell_type": "code",
   "execution_count": 1,
   "id": "2e891c20",
   "metadata": {
    "vscode": {
     "languageId": "plaintext"
    }
   },
   "outputs": [
    {
     "data": {
      "text/plain": [
       "(x, y, r, a)"
      ]
     },
     "execution_count": 1,
     "metadata": {},
     "output_type": "execute_result"
    }
   ],
   "source": [
    "var('x,y,r,a')"
   ]
  },
  {
   "cell_type": "code",
   "execution_count": 2,
   "id": "b6c81215",
   "metadata": {
    "vscode": {
     "languageId": "plaintext"
    }
   },
   "outputs": [],
   "source": [
    "F1 = (r * cos(y) + a) * cos(x)\n",
    "F2 = (r * cos(y) + a) * sin(x)\n",
    "F3 = r * sin(y) * cos(x/2)\n",
    "F4 = r * sin(y) * sin(x/2)"
   ]
  },
  {
   "cell_type": "code",
   "execution_count": 5,
   "id": "6b83bc20",
   "metadata": {
    "vscode": {
     "languageId": "plaintext"
    }
   },
   "outputs": [],
   "source": [
    "F = (F1, F2, F3, F4)\n",
    "dF = jacobian(F, [x, y])"
   ]
  },
  {
   "cell_type": "code",
   "execution_count": 6,
   "id": "7c19a240",
   "metadata": {
    "vscode": {
     "languageId": "plaintext"
    }
   },
   "outputs": [
    {
     "data": {
      "text/plain": [
       "2"
      ]
     },
     "execution_count": 6,
     "metadata": {},
     "output_type": "execute_result"
    }
   ],
   "source": [
    "rank(dF)"
   ]
  }
 ],
 "metadata": {
  "kernelspec": {
   "display_name": "SageMath 10.5",
   "language": "sage",
   "name": "SageMath-10.5"
  },
  "language_info": {
   "codemirror_mode": {
    "name": "ipython",
    "version": 3
   },
   "file_extension": ".py",
   "mimetype": "text/x-python",
   "name": "python",
   "nbconvert_exporter": "python",
   "pygments_lexer": "ipython3",
   "version": "3.12.5"
  }
 },
 "nbformat": 4,
 "nbformat_minor": 5
}
