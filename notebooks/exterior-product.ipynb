{
 "cells": [
  {
   "cell_type": "code",
   "execution_count": 1,
   "id": "a768dd28",
   "metadata": {
    "vscode": {
     "languageId": "plaintext"
    }
   },
   "outputs": [],
   "source": [
    "M = FiniteRankFreeModule(ZZ, 2, name='M')\n",
    "e = M.basis('e')\n",
    "from sage.tensor.modules.tensor_free_module import TensorFreeModule"
   ]
  },
  {
   "cell_type": "code",
   "execution_count": 2,
   "id": "3c6b45ac",
   "metadata": {
    "vscode": {
     "languageId": "plaintext"
    }
   },
   "outputs": [
    {
     "data": {
      "text/plain": [
       "e_0∧e_1 = e_0∧e_1"
      ]
     },
     "execution_count": 2,
     "metadata": {},
     "output_type": "execute_result"
    }
   ],
   "source": [
    "(e[0].wedge(e[1])).display(e)"
   ]
  },
  {
   "cell_type": "code",
   "execution_count": 3,
   "id": "a1050e3e",
   "metadata": {
    "vscode": {
     "languageId": "plaintext"
    }
   },
   "outputs": [],
   "source": [
    "v = M.alternating_contravariant_tensor(1, name='V')\n",
    "v[0] = 2\n",
    "w = M.alternating_contravariant_tensor(1, name='W')\n",
    "w[1] = 2"
   ]
  },
  {
   "cell_type": "code",
   "execution_count": 4,
   "id": "05f1aefe",
   "metadata": {
    "vscode": {
     "languageId": "plaintext"
    }
   },
   "outputs": [
    {
     "data": {
      "text/plain": [
       "V∧W = 4 e_0∧e_1"
      ]
     },
     "execution_count": 4,
     "metadata": {},
     "output_type": "execute_result"
    }
   ],
   "source": [
    "(v.wedge(w)).display(e)"
   ]
  },
  {
   "cell_type": "code",
   "execution_count": 5,
   "id": "0df4211e",
   "metadata": {
    "vscode": {
     "languageId": "plaintext"
    }
   },
   "outputs": [
    {
     "data": {
      "text/plain": [
       "V∧W = 3 e_0∧e_1"
      ]
     },
     "execution_count": 5,
     "metadata": {},
     "output_type": "execute_result"
    }
   ],
   "source": [
    "v = M.alternating_contravariant_tensor(1, name='V')\n",
    "v[0] = 2\n",
    "v[1] = 1\n",
    "w = M.alternating_contravariant_tensor(1, name='W')\n",
    "w[0] = 1\n",
    "w[1] = 2\n",
    "(v.wedge(w)).display(e)"
   ]
  }
 ],
 "metadata": {
  "kernelspec": {
   "display_name": "SageMath 10.5",
   "language": "sage",
   "name": "SageMath-10.5"
  },
  "language_info": {
   "codemirror_mode": {
    "name": "ipython",
    "version": 3
   },
   "file_extension": ".py",
   "mimetype": "text/x-python",
   "name": "python",
   "nbconvert_exporter": "python",
   "pygments_lexer": "ipython3",
   "version": "3.12.5"
  }
 },
 "nbformat": 4,
 "nbformat_minor": 5
}
