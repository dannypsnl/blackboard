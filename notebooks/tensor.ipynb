{
 "cells": [
  {
   "cell_type": "code",
   "execution_count": 1,
   "metadata": {
    "vscode": {
     "languageId": "plaintext"
    }
   },
   "outputs": [],
   "source": [
    "M = FiniteRankFreeModule(ZZ, 3, name='M')\n",
    "e = M.basis('e')\n",
    "from sage.tensor.modules.tensor_free_module import TensorFreeModule"
   ]
  },
  {
   "cell_type": "code",
   "execution_count": 2,
   "metadata": {
    "vscode": {
     "languageId": "plaintext"
    }
   },
   "outputs": [
    {
     "data": {
      "text/plain": [
       "Free module of type-(3,0) tensors on the Rank-3 free module M over the Integer Ring"
      ]
     },
     "execution_count": 2,
     "metadata": {},
     "output_type": "execute_result"
    }
   ],
   "source": [
    "T = M.tensor_module(3, 0)\n",
    "T"
   ]
  },
  {
   "cell_type": "code",
   "execution_count": 3,
   "metadata": {
    "vscode": {
     "languageId": "plaintext"
    }
   },
   "outputs": [
    {
     "data": {
      "text/plain": [
       "Integer Ring"
      ]
     },
     "execution_count": 3,
     "metadata": {},
     "output_type": "execute_result"
    }
   ],
   "source": [
    "T.base_ring()"
   ]
  },
  {
   "cell_type": "code",
   "execution_count": 4,
   "metadata": {
    "vscode": {
     "languageId": "plaintext"
    }
   },
   "outputs": [
    {
     "data": {
      "text/plain": [
       "zero = 0"
      ]
     },
     "execution_count": 4,
     "metadata": {},
     "output_type": "execute_result"
    }
   ],
   "source": [
    "t = T(0)\n",
    "t.display(e)"
   ]
  },
  {
   "cell_type": "code",
   "execution_count": 5,
   "metadata": {
    "vscode": {
     "languageId": "plaintext"
    }
   },
   "outputs": [
    {
     "data": {
      "text/plain": [
       "t = e_0⊗e_0⊗e_1 + 2 e_0⊗e_0⊗e_2 - e_0⊗e_1⊗e_0 + e_0⊗e_1⊗e_2 - 2 e_0⊗e_2⊗e_0 - e_0⊗e_2⊗e_1 + e_1⊗e_0⊗e_0 + 2 e_1⊗e_0⊗e_1 + 3 e_1⊗e_0⊗e_2 + e_1⊗e_1⊗e_1 + 2 e_1⊗e_1⊗e_2 - e_1⊗e_2⊗e_0 + e_1⊗e_2⊗e_2 + 2 e_2⊗e_0⊗e_0 + 3 e_2⊗e_0⊗e_1 + 4 e_2⊗e_0⊗e_2 + e_2⊗e_1⊗e_0 + 2 e_2⊗e_1⊗e_1 + 3 e_2⊗e_1⊗e_2 + e_2⊗e_2⊗e_1 + 2 e_2⊗e_2⊗e_2"
      ]
     },
     "execution_count": 5,
     "metadata": {},
     "output_type": "execute_result"
    }
   ],
   "source": [
    "comp = [[[i-j+k for k in range(3)] for j in range(3)] for i in range(3)]\n",
    "t = T(comp, basis=e, name='t')\n",
    "t.display(e)"
   ]
  },
  {
   "cell_type": "code",
   "execution_count": 6,
   "metadata": {
    "vscode": {
     "languageId": "plaintext"
    }
   },
   "outputs": [
    {
     "data": {
      "text/plain": [
       "t = -3 e_0⊗e_1⊗e_1 + 4 e_2⊗e_0⊗e_1"
      ]
     },
     "execution_count": 6,
     "metadata": {},
     "output_type": "execute_result"
    }
   ],
   "source": [
    "t = T([], name='t')\n",
    "t.set_comp(e)[0,1,1] = -3\n",
    "t.set_comp(e)[2,0,1] = 4\n",
    "t.display(e)"
   ]
  },
  {
   "cell_type": "code",
   "execution_count": 7,
   "metadata": {
    "vscode": {
     "languageId": "plaintext"
    }
   },
   "outputs": [
    {
     "data": {
      "text/plain": [
       "Alternating form a of degree 2 on the Rank-3 free module M over the Integer Ring"
      ]
     },
     "execution_count": 7,
     "metadata": {},
     "output_type": "execute_result"
    }
   ],
   "source": [
    "a = M.alternating_form(2, name='a') ; a"
   ]
  },
  {
   "cell_type": "code",
   "execution_count": 8,
   "metadata": {
    "vscode": {
     "languageId": "plaintext"
    }
   },
   "outputs": [
    {
     "data": {
      "text/plain": [
       "a = 4 e^0∧e^1 - 3 e^1∧e^2"
      ]
     },
     "execution_count": 8,
     "metadata": {},
     "output_type": "execute_result"
    }
   ],
   "source": [
    "a[0,1], a[1,2] = 4, -3\n",
    "a.display(e)"
   ]
  },
  {
   "cell_type": "code",
   "execution_count": 9,
   "metadata": {
    "vscode": {
     "languageId": "plaintext"
    }
   },
   "outputs": [
    {
     "data": {
      "text/plain": [
       "2nd exterior power of the dual of the Rank-3 free module M over the Integer Ring"
      ]
     },
     "execution_count": 9,
     "metadata": {},
     "output_type": "execute_result"
    }
   ],
   "source": [
    "L2 = M.dual_exterior_power(2) ; L2"
   ]
  },
  {
   "cell_type": "code",
   "execution_count": 10,
   "metadata": {
    "vscode": {
     "languageId": "plaintext"
    }
   },
   "outputs": [
    {
     "data": {
      "text/plain": [
       "T^{(3, 0)}\\left(M\\right)"
      ]
     },
     "execution_count": 10,
     "metadata": {},
     "output_type": "execute_result"
    }
   ],
   "source": [
    "latex(T)"
   ]
  },
  {
   "cell_type": "code",
   "execution_count": 11,
   "metadata": {
    "vscode": {
     "languageId": "plaintext"
    }
   },
   "outputs": [
    {
     "data": {
      "text/plain": [
       "Linear form b on the Rank-3 free module M over the Integer Ring"
      ]
     },
     "execution_count": 11,
     "metadata": {},
     "output_type": "execute_result"
    }
   ],
   "source": [
    "a = M.linear_form('a')\n",
    "b = M.linear_form('b'); b"
   ]
  },
  {
   "cell_type": "code",
   "execution_count": 12,
   "metadata": {
    "vscode": {
     "languageId": "plaintext"
    }
   },
   "outputs": [],
   "source": [
    "a[:] = [1,1,3]\n",
    "b[:] = [2,-1,3]"
   ]
  },
  {
   "cell_type": "code",
   "execution_count": 13,
   "metadata": {
    "vscode": {
     "languageId": "plaintext"
    }
   },
   "outputs": [
    {
     "data": {
      "text/plain": [
       "b = 2 e^0 - e^1 + 3 e^2"
      ]
     },
     "execution_count": 13,
     "metadata": {},
     "output_type": "execute_result"
    }
   ],
   "source": [
    "b.display(e)"
   ]
  },
  {
   "cell_type": "code",
   "execution_count": 14,
   "metadata": {
    "vscode": {
     "languageId": "plaintext"
    }
   },
   "outputs": [
    {
     "data": {
      "text/plain": [
       "Symmetric bilinear form  b⊗b on the Rank-3 free module M over the Integer Ring"
      ]
     },
     "execution_count": 14,
     "metadata": {},
     "output_type": "execute_result"
    }
   ],
   "source": [
    "c = b * b\n",
    "c"
   ]
  },
  {
   "cell_type": "code",
   "execution_count": 15,
   "metadata": {
    "vscode": {
     "languageId": "plaintext"
    }
   },
   "outputs": [
    {
     "data": {
      "text/plain": [
       "b⊗b = 4 e^0⊗e^0 - 2 e^0⊗e^1 + 6 e^0⊗e^2 - 2 e^1⊗e^0 + e^1⊗e^1 - 3 e^1⊗e^2 + 6 e^2⊗e^0 - 3 e^2⊗e^1 + 9 e^2⊗e^2"
      ]
     },
     "execution_count": 15,
     "metadata": {},
     "output_type": "execute_result"
    }
   ],
   "source": [
    "c.display(e)"
   ]
  },
  {
   "cell_type": "code",
   "execution_count": 16,
   "metadata": {
    "vscode": {
     "languageId": "plaintext"
    }
   },
   "outputs": [
    {
     "data": {
      "text/plain": [
       "b⊗b⊗a = 4 e^0⊗e^0⊗e^0 + 4 e^0⊗e^0⊗e^1 + 12 e^0⊗e^0⊗e^2 - 2 e^0⊗e^1⊗e^0 - 2 e^0⊗e^1⊗e^1 - 6 e^0⊗e^1⊗e^2 + 6 e^0⊗e^2⊗e^0 + 6 e^0⊗e^2⊗e^1 + 18 e^0⊗e^2⊗e^2 - 2 e^1⊗e^0⊗e^0 - 2 e^1⊗e^0⊗e^1 - 6 e^1⊗e^0⊗e^2 + e^1⊗e^1⊗e^0 + e^1⊗e^1⊗e^1 + 3 e^1⊗e^1⊗e^2 - 3 e^1⊗e^2⊗e^0 - 3 e^1⊗e^2⊗e^1 - 9 e^1⊗e^2⊗e^2 + 6 e^2⊗e^0⊗e^0 + 6 e^2⊗e^0⊗e^1 + 18 e^2⊗e^0⊗e^2 - 3 e^2⊗e^1⊗e^0 - 3 e^2⊗e^1⊗e^1 - 9 e^2⊗e^1⊗e^2 + 9 e^2⊗e^2⊗e^0 + 9 e^2⊗e^2⊗e^1 + 27 e^2⊗e^2⊗e^2"
      ]
     },
     "execution_count": 16,
     "metadata": {},
     "output_type": "execute_result"
    }
   ],
   "source": [
    "(b * b * a).display(e)"
   ]
  },
  {
   "cell_type": "code",
   "execution_count": 17,
   "metadata": {
    "vscode": {
     "languageId": "plaintext"
    }
   },
   "outputs": [
    {
     "data": {
      "text/plain": [
       "e_0⊗e_0 + e_0⊗e_1 + e_0⊗e_2 + e_1⊗e_0 + e_1⊗e_1 + e_1⊗e_2 + e_2⊗e_0 + e_2⊗e_1 + e_2⊗e_2"
      ]
     },
     "execution_count": 17,
     "metadata": {},
     "output_type": "execute_result"
    }
   ],
   "source": [
    "v = M([1,1,1])\n",
    "(v * v).display(e)"
   ]
  },
  {
   "cell_type": "code",
   "execution_count": 18,
   "metadata": {
    "vscode": {
     "languageId": "plaintext"
    }
   },
   "outputs": [
    {
     "data": {
      "text/plain": [
       "a∧b = -3 e^0∧e^1 - 3 e^0∧e^2 + 6 e^1∧e^2"
      ]
     },
     "execution_count": 18,
     "metadata": {},
     "output_type": "execute_result"
    }
   ],
   "source": [
    "a.wedge(b).display(e)"
   ]
  },
  {
   "cell_type": "code",
   "execution_count": 19,
   "metadata": {
    "vscode": {
     "languageId": "plaintext"
    }
   },
   "outputs": [
    {
     "data": {
      "text/plain": [
       "6 e_0⊗e_0⊗e_0 - 2 e_0⊗e_0⊗e_1 + 18 e_0⊗e_0⊗e_2 + 18 e_0⊗e_1⊗e_0 - 6 e_0⊗e_1⊗e_1 + 54 e_0⊗e_1⊗e_2 + 42 e_0⊗e_2⊗e_0 - 14 e_0⊗e_2⊗e_1 + 126 e_0⊗e_2⊗e_2 + 12 e_1⊗e_0⊗e_0 - 4 e_1⊗e_0⊗e_1 + 36 e_1⊗e_0⊗e_2 + 36 e_1⊗e_1⊗e_0 - 12 e_1⊗e_1⊗e_1 + 108 e_1⊗e_1⊗e_2 + 84 e_1⊗e_2⊗e_0 - 28 e_1⊗e_2⊗e_1 + 252 e_1⊗e_2⊗e_2 + 9 e_2⊗e_0⊗e_0 - 3 e_2⊗e_0⊗e_1 + 27 e_2⊗e_0⊗e_2 + 27 e_2⊗e_1⊗e_0 - 9 e_2⊗e_1⊗e_1 + 81 e_2⊗e_1⊗e_2 + 63 e_2⊗e_2⊗e_0 - 21 e_2⊗e_2⊗e_1 + 189 e_2⊗e_2⊗e_2"
      ]
     },
     "execution_count": 19,
     "metadata": {},
     "output_type": "execute_result"
    }
   ],
   "source": [
    "a = M([2,4,3])\n",
    "b = M([1,3,7])\n",
    "c = M([3,-1,9])\n",
    "(a*b*c).display(e)"
   ]
  },
  {
   "cell_type": "code",
   "execution_count": 20,
   "metadata": {
    "vscode": {
     "languageId": "plaintext"
    }
   },
   "outputs": [
    {
     "data": {
      "text/plain": [
       "43/3 e_0⊗e_1⊗e_2 - 43/3 e_0⊗e_2⊗e_1 - 43/3 e_1⊗e_0⊗e_2 + 43/3 e_1⊗e_2⊗e_0 + 43/3 e_2⊗e_0⊗e_1 - 43/3 e_2⊗e_1⊗e_0"
      ]
     },
     "execution_count": 20,
     "metadata": {},
     "output_type": "execute_result"
    }
   ],
   "source": [
    "o = (a*b*c + b*c*a + c*a*b - b*a*c - a*c*b - c*b*a) / 6\n",
    "\n",
    "o.display(e)"
   ]
  },
  {
   "cell_type": "code",
   "execution_count": 21,
   "metadata": {
    "vscode": {
     "languageId": "plaintext"
    }
   },
   "outputs": [],
   "source": [
    "L3 = M.dual_exterior_power(3)"
   ]
  },
  {
   "cell_type": "code",
   "execution_count": 22,
   "metadata": {
    "vscode": {
     "languageId": "plaintext"
    }
   },
   "outputs": [
    {
     "data": {
      "text/plain": [
       "Alternating contravariant tensor a of degree 2 on the Rank-3 free module M over the Integer Ring"
      ]
     },
     "execution_count": 22,
     "metadata": {},
     "output_type": "execute_result"
    }
   ],
   "source": [
    "a = M.alternating_contravariant_tensor(2, name='a')\n",
    "a[1,2] = -3\n",
    "a"
   ]
  },
  {
   "cell_type": "code",
   "execution_count": 23,
   "metadata": {
    "vscode": {
     "languageId": "plaintext"
    }
   },
   "outputs": [
    {
     "data": {
      "text/plain": [
       "a = -3 e_1∧e_2"
      ]
     },
     "execution_count": 23,
     "metadata": {},
     "output_type": "execute_result"
    }
   ],
   "source": [
    "a.display(e)"
   ]
  },
  {
   "cell_type": "code",
   "execution_count": 24,
   "metadata": {
    "vscode": {
     "languageId": "plaintext"
    }
   },
   "outputs": [
    {
     "data": {
      "text/plain": [
       "True"
      ]
     },
     "execution_count": 24,
     "metadata": {},
     "output_type": "execute_result"
    }
   ],
   "source": [
    "all( a[i,j] == - a[j,i] for i in {0,1,2} for j in {0,1,2} )"
   ]
  },
  {
   "cell_type": "code",
   "execution_count": 25,
   "metadata": {
    "vscode": {
     "languageId": "plaintext"
    }
   },
   "outputs": [
    {
     "data": {
      "text/plain": [
       "a⊗a = 9 e_1⊗e_2⊗e_1⊗e_2 - 9 e_1⊗e_2⊗e_2⊗e_1 - 9 e_2⊗e_1⊗e_1⊗e_2 + 9 e_2⊗e_1⊗e_2⊗e_1"
      ]
     },
     "execution_count": 25,
     "metadata": {},
     "output_type": "execute_result"
    }
   ],
   "source": [
    "(a * a).display(e)"
   ]
  }
 ],
 "metadata": {
  "kernelspec": {
   "display_name": "SageMath 10.5",
   "language": "sage",
   "name": "SageMath-10.5"
  },
  "language_info": {
   "codemirror_mode": {
    "name": "ipython",
    "version": 3
   },
   "file_extension": ".py",
   "mimetype": "text/x-python",
   "name": "python",
   "nbconvert_exporter": "python",
   "pygments_lexer": "ipython3",
   "version": "3.12.5"
  }
 },
 "nbformat": 4,
 "nbformat_minor": 2
}
